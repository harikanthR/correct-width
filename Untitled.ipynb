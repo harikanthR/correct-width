{
 "cells": [
  {
   "cell_type": "code",
   "execution_count": 11,
   "id": "2387ff44",
   "metadata": {},
   "outputs": [
    {
     "ename": "SyntaxError",
     "evalue": "invalid syntax (2809721782.py, line 5)",
     "output_type": "error",
     "traceback": [
      "\u001b[1;36m  File \u001b[1;32m\"C:\\Users\\User\\AppData\\Local\\Temp\\ipykernel_4708\\2809721782.py\"\u001b[1;36m, line \u001b[1;32m5\u001b[0m\n\u001b[1;33m    img = cv2.imread(\"C://Users//User//Downloads//002.jpg\",, 0)\u001b[0m\n\u001b[1;37m                                                           ^\u001b[0m\n\u001b[1;31mSyntaxError\u001b[0m\u001b[1;31m:\u001b[0m invalid syntax\n"
     ]
    }
   ],
   "source": [
    "import cv2\n",
    "import numpy as np\n",
    "\n",
    "# Read the input image\n",
    "img = cv2.imread(\"C://Users//User//Downloads//spray.png\", 0)\n",
    "\n",
    "# Calculate the gradient of the image in the x and y directions\n",
    "sobelx = cv2.Sobel(img, cv2.CV_64F, 1, 0, ksize=3)\n",
    "sobely = cv2.Sobel(img, cv2.CV_64F, 0, 1, ksize=3)\n",
    "\n",
    "# Calculate the magnitude and direction of the gradient\n",
    "magnitude = np.sqrt(sobelx**2 + sobely**2)\n",
    "direction = np.arctan2(sobely, sobelx)\n",
    "\n",
    "# Calculate the tangent of the image\n",
    "tangent = np.tan(direction)\n",
    "\n",
    "# Display the tangent image\n",
    "cv2.imshow(\"Tangent Image\", tangent)\n",
    "cv2.waitKey(0)\n",
    "cv2.destroyAllWindows()\n"
   ]
  },
  {
   "cell_type": "code",
   "execution_count": null,
   "id": "78a6fe4d",
   "metadata": {},
   "outputs": [],
   "source": []
  }
 ],
 "metadata": {
  "kernelspec": {
   "display_name": "Python 3 (ipykernel)",
   "language": "python",
   "name": "python3"
  },
  "language_info": {
   "codemirror_mode": {
    "name": "ipython",
    "version": 3
   },
   "file_extension": ".py",
   "mimetype": "text/x-python",
   "name": "python",
   "nbconvert_exporter": "python",
   "pygments_lexer": "ipython3",
   "version": "3.9.13"
  }
 },
 "nbformat": 4,
 "nbformat_minor": 5
}
